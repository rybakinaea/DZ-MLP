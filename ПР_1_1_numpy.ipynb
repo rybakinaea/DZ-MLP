{
  "cells": [
    {
      "cell_type": "markdown",
      "metadata": {
        "id": "view-in-github",
        "colab_type": "text"
      },
      "source": [
        "<a href=\"https://colab.research.google.com/github/rybakinaea/DZ-MLP/blob/main/%D0%9F%D0%A0_1_1_numpy.ipynb\" target=\"_parent\"><img src=\"https://colab.research.google.com/assets/colab-badge.svg\" alt=\"Open In Colab\"/></a>"
      ]
    },
    {
      "cell_type": "markdown",
      "metadata": {
        "id": "lvDzilQXu13M"
      },
      "source": [
        "# Практическая работа 1-1 Numpy\n",
        "\n",
        "1. Скачайте этот ноутбук к себе.\n",
        "2. Заполните пропущенные ячейки, отвечая на заданные вопросы. Там должен быть код! (если не сказано обратное)\n",
        "3. Сохраните результат в своём гитхаб репозитории.\n",
        "\n",
        "#### Полезная литература\n",
        "\n",
        "- http://www.numpy.org/\n",
        "- https://jakevdp.github.io/PythonDataScienceHandbook/02.00-introduction-to-numpy.html\n",
        "- https://docs.scipy.org/doc/numpy/user/quickstart.html"
      ]
    },
    {
      "cell_type": "markdown",
      "metadata": {
        "id": "g4PbkEUuu13Q"
      },
      "source": [
        "1) Импортировать numpy и написать версию"
      ]
    },
    {
      "cell_type": "code",
      "execution_count": null,
      "metadata": {
        "colab": {
          "base_uri": "https://localhost:8080/",
          "height": 36
        },
        "id": "dGiKvqE9u13R",
        "outputId": "1af5a691-93a2-406d-dd2e-16f2a54b1eb1"
      },
      "outputs": [
        {
          "output_type": "execute_result",
          "data": {
            "text/plain": [
              "'1.23.5'"
            ],
            "application/vnd.google.colaboratory.intrinsic+json": {
              "type": "string"
            }
          },
          "metadata": {},
          "execution_count": 1
        }
      ],
      "source": [
        "import numpy\n",
        "numpy.__version__"
      ]
    },
    {
      "cell_type": "markdown",
      "metadata": {
        "id": "4fqXCNQIu13S"
      },
      "source": [
        "2) Создать нулевой вектор размера 10"
      ]
    },
    {
      "cell_type": "code",
      "execution_count": null,
      "metadata": {
        "colab": {
          "base_uri": "https://localhost:8080/"
        },
        "id": "FBTA3vNnu13S",
        "outputId": "e4775206-619f-4e70-85d5-ab762bead965"
      },
      "outputs": [
        {
          "output_type": "stream",
          "name": "stdout",
          "text": [
            "[0. 0. 0. 0. 0. 0. 0. 0. 0. 0.]\n"
          ]
        }
      ],
      "source": [
        "import numpy as np\n",
        "vector = np.zeros(10)\n",
        "print(vector)"
      ]
    },
    {
      "cell_type": "markdown",
      "metadata": {
        "id": "s7ciI2Lyu13S"
      },
      "source": [
        "3) Создать вектор заполненный 7-ами размера 7"
      ]
    },
    {
      "cell_type": "code",
      "execution_count": null,
      "metadata": {
        "colab": {
          "base_uri": "https://localhost:8080/"
        },
        "id": "EOrXtWFru13T",
        "outputId": "a306e1f1-9092-41c6-e0bb-ee8a2ebbee4a"
      },
      "outputs": [
        {
          "output_type": "execute_result",
          "data": {
            "text/plain": [
              "array([7., 7., 7., 7., 7., 7., 7.])"
            ]
          },
          "metadata": {},
          "execution_count": 3
        }
      ],
      "source": [
        "import numpy as np\n",
        "vector = np.ones(7) * 7\n",
        "np.resize(vector, 7)"
      ]
    },
    {
      "cell_type": "markdown",
      "metadata": {
        "id": "aXXvJ66Pu13T"
      },
      "source": [
        "4) Создать вектор заполненный четными числами от 10 до 100"
      ]
    },
    {
      "cell_type": "code",
      "execution_count": null,
      "metadata": {
        "colab": {
          "base_uri": "https://localhost:8080/"
        },
        "id": "W7SpA3N_u13U",
        "outputId": "b2b3e2e5-ee1a-4f97-b082-62a7c1a720c3"
      },
      "outputs": [
        {
          "output_type": "execute_result",
          "data": {
            "text/plain": [
              "array([ 10,  12,  14,  16,  18,  20,  22,  24,  26,  28,  30,  32,  34,\n",
              "        36,  38,  40,  42,  44,  46,  48,  50,  52,  54,  56,  58,  60,\n",
              "        62,  64,  66,  68,  70,  72,  74,  76,  78,  80,  82,  84,  86,\n",
              "        88,  90,  92,  94,  96,  98, 100])"
            ]
          },
          "metadata": {},
          "execution_count": 9
        }
      ],
      "source": [
        "import numpy as np\n",
        "vector = np.arange(10, 101, 2)\n",
        "vector"
      ]
    },
    {
      "cell_type": "markdown",
      "metadata": {
        "id": "gBRSCNLEu13U"
      },
      "source": [
        "5) Создать массив случайных чисел и развернуть его задом наперёд"
      ]
    },
    {
      "cell_type": "code",
      "execution_count": null,
      "metadata": {
        "colab": {
          "base_uri": "https://localhost:8080/"
        },
        "id": "IZQ4Y7E_u13U",
        "outputId": "64382490-38fc-456b-edcf-a412fc5ad5c7"
      },
      "outputs": [
        {
          "output_type": "stream",
          "name": "stdout",
          "text": [
            "[41 42 97 25 30 86 29  3  0 51]\n",
            "[51  0  3 29 86 30 25 97 42 41]\n"
          ]
        }
      ],
      "source": [
        "vector = np.random.randint(100, size=(10,))\n",
        "print (vector)\n",
        "vector_reversed = vector[::-1]\n",
        "print (vector_reversed)"
      ]
    },
    {
      "cell_type": "markdown",
      "metadata": {
        "id": "cyPwIRxSu13U"
      },
      "source": [
        "6) Создать двумерную матрицу размера 3 на 3, заполненную числами от 0 до 9"
      ]
    },
    {
      "cell_type": "code",
      "execution_count": null,
      "metadata": {
        "id": "DPEuKpvIu13V"
      },
      "outputs": [],
      "source": [
        "matrix = np.zeros((3, 3))\n",
        "for i in range(3):\n",
        "  for j in range(3):\n",
        "    matrix[i, j] = i * 3 + j\n",
        "print"
      ]
    },
    {
      "cell_type": "markdown",
      "metadata": {
        "id": "1ERw1ASau13V"
      },
      "source": [
        "7) Создать матрицу размера 4 на 4 с единицами на диагонали смещеной на один наверх."
      ]
    },
    {
      "cell_type": "code",
      "execution_count": 5,
      "metadata": {
        "id": "NUwKtVjiu13V",
        "outputId": "8b6886cc-a705-49b3-836e-df50b7302bf8",
        "colab": {
          "base_uri": "https://localhost:8080/"
        }
      },
      "outputs": [
        {
          "output_type": "stream",
          "name": "stdout",
          "text": [
            "[[0. 1. 1. 1.]\n",
            " [1. 0. 1. 1.]\n",
            " [1. 1. 0. 1.]\n",
            " [1. 1. 1. 0.]]\n"
          ]
        }
      ],
      "source": [
        "import numpy as np\n",
        "def create_matrix():\n",
        "  return np.ones((4, 4)) - np.eye(4)\n",
        "result = create_matrix()\n",
        "print (result)"
      ]
    },
    {
      "cell_type": "markdown",
      "metadata": {
        "id": "xFPOj5H2u13V"
      },
      "source": [
        "8) Создать матрицу с числами в диапазоне от 1 до 4 по диагонали. В других ячейках матрицы должны быть семерки."
      ]
    },
    {
      "cell_type": "code",
      "execution_count": 8,
      "metadata": {
        "id": "R1MIo2Fcu13V",
        "outputId": "01c41117-d643-4526-b51e-f16e2978c665",
        "colab": {
          "base_uri": "https://localhost:8080/"
        }
      },
      "outputs": [
        {
          "output_type": "stream",
          "name": "stdout",
          "text": [
            "[[1 7 7 7]\n",
            " [7 2 7 7]\n",
            " [7 7 3 7]\n",
            " [7 7 7 4]]\n"
          ]
        }
      ],
      "source": [
        "import numpy as np\n",
        "diag_matrix = np.diag(np.arange(1, 5))\n",
        "diag_matrix[~np.eye(4, dtype=bool)] = 7\n",
        "print(diag_matrix)"
      ]
    },
    {
      "cell_type": "markdown",
      "metadata": {
        "id": "L7RjGIMiu13V"
      },
      "source": [
        "9) Создать матрицу размера 5 на 5 заполненную чилами от 0 до 4 в строках."
      ]
    },
    {
      "cell_type": "code",
      "execution_count": 10,
      "metadata": {
        "id": "uvPSVO2zu13W",
        "outputId": "61d1ad02-48cd-441f-80cc-1dee1bf6549f",
        "colab": {
          "base_uri": "https://localhost:8080/"
        }
      },
      "outputs": [
        {
          "output_type": "stream",
          "name": "stdout",
          "text": [
            "[[0. 1. 2. 3. 4.]\n",
            " [0. 1. 2. 3. 4.]\n",
            " [0. 1. 2. 3. 4.]\n",
            " [0. 1. 2. 3. 4.]\n",
            " [0. 1. 2. 3. 4.]]\n"
          ]
        }
      ],
      "source": [
        "import numpy as np\n",
        "matrix = np.zeros((5, 5))\n",
        "for i in range(5):\n",
        "    matrix[i] = np.arange(0, 5)\n",
        "print(matrix)"
      ]
    },
    {
      "cell_type": "markdown",
      "metadata": {
        "id": "ldjyIQLfu13W"
      },
      "source": [
        "10) Создать матрицу случайных чисел размера 10 на 10 и отнять среднее по строкам из каждого элемента строки"
      ]
    },
    {
      "cell_type": "code",
      "execution_count": 19,
      "metadata": {
        "id": "cPK93WTsu13W",
        "outputId": "47772ea2-ded9-423d-cf87-1de573872b73",
        "colab": {
          "base_uri": "https://localhost:8080/"
        }
      },
      "outputs": [
        {
          "output_type": "execute_result",
          "data": {
            "text/plain": [
              "array([[6, 8, 9, 4, 4, 0, 9, 8, 9, 0],\n",
              "       [5, 5, 2, 0, 1, 4, 9, 9, 3, 3],\n",
              "       [5, 8, 4, 7, 9, 6, 6, 4, 6, 5],\n",
              "       [7, 6, 3, 9, 8, 6, 5, 7, 6, 2],\n",
              "       [5, 7, 4, 8, 9, 0, 9, 5, 8, 2],\n",
              "       [2, 8, 2, 1, 1, 4, 9, 6, 9, 9],\n",
              "       [0, 6, 6, 2, 2, 0, 8, 3, 8, 5],\n",
              "       [1, 3, 4, 2, 8, 8, 4, 7, 6, 9],\n",
              "       [7, 8, 7, 2, 8, 8, 9, 3, 4, 5],\n",
              "       [7, 0, 9, 9, 8, 4, 8, 4, 0, 8]])"
            ]
          },
          "metadata": {},
          "execution_count": 19
        }
      ],
      "source": [
        "import numpy as np\n",
        "matrix = np.random.randint(10,size = (10, 10))\n",
        "matrix"
      ]
    },
    {
      "cell_type": "markdown",
      "metadata": {
        "id": "kValCw5Uu13W"
      },
      "source": [
        "11) Создать матрицу случайных чисел размера 10 на 10 и отнять медиану по столбцам из каждого элемента столбца  "
      ]
    },
    {
      "cell_type": "code",
      "execution_count": 20,
      "metadata": {
        "id": "IB6YT75Pu13W",
        "outputId": "051324c7-8486-4793-89d5-0fd21e74a615",
        "colab": {
          "base_uri": "https://localhost:8080/"
        }
      },
      "outputs": [
        {
          "output_type": "execute_result",
          "data": {
            "text/plain": [
              "array([[8, 3, 5, 1, 8, 1, 5, 3, 4, 8],\n",
              "       [2, 3, 9, 2, 4, 8, 8, 7, 4, 1],\n",
              "       [8, 8, 5, 0, 4, 5, 2, 4, 3, 0],\n",
              "       [6, 3, 6, 8, 9, 1, 3, 1, 3, 6],\n",
              "       [4, 6, 8, 7, 9, 5, 2, 5, 4, 4],\n",
              "       [0, 0, 7, 9, 2, 6, 4, 1, 0, 1],\n",
              "       [1, 4, 1, 7, 0, 8, 5, 1, 6, 7],\n",
              "       [5, 5, 2, 2, 7, 2, 2, 5, 6, 8],\n",
              "       [6, 7, 1, 9, 6, 7, 5, 8, 5, 0],\n",
              "       [4, 2, 6, 5, 4, 0, 9, 0, 1, 0]])"
            ]
          },
          "metadata": {},
          "execution_count": 20
        }
      ],
      "source": [
        "matrix= np.random.randint(10,size = (10, 10))\n",
        "matrix"
      ]
    },
    {
      "cell_type": "markdown",
      "metadata": {
        "id": "-ztAc7m6u13X"
      },
      "source": [
        "12) Создать матрицу случайных чисел 5x5. Добавить к ней столбецы максимумов и минимумов по строкам. Получится матрица 5x7.  "
      ]
    },
    {
      "cell_type": "code",
      "execution_count": 21,
      "metadata": {
        "id": "qVx23x1Ku13X",
        "outputId": "435d7a77-9673-4dd2-e775-9b8656afd16a",
        "colab": {
          "base_uri": "https://localhost:8080/"
        }
      },
      "outputs": [
        {
          "output_type": "execute_result",
          "data": {
            "text/plain": [
              "array([[2, 4, 8, 9, 9, 0, 4, 8, 1, 7, 9, 0],\n",
              "       [4, 7, 6, 1, 1, 7, 8, 1, 1, 0, 8, 0],\n",
              "       [5, 8, 1, 7, 7, 0, 7, 4, 8, 7, 8, 0],\n",
              "       [3, 7, 7, 4, 0, 6, 3, 5, 5, 3, 7, 0],\n",
              "       [5, 5, 3, 6, 7, 2, 6, 2, 7, 0, 7, 0],\n",
              "       [3, 0, 4, 4, 1, 6, 2, 9, 6, 6, 9, 0],\n",
              "       [2, 4, 9, 6, 0, 8, 0, 1, 9, 7, 9, 0],\n",
              "       [4, 2, 6, 2, 1, 0, 9, 6, 5, 9, 9, 0],\n",
              "       [6, 5, 7, 7, 6, 3, 6, 3, 9, 3, 9, 3],\n",
              "       [4, 1, 5, 7, 4, 1, 6, 3, 6, 4, 7, 1]])"
            ]
          },
          "metadata": {},
          "execution_count": 21
        }
      ],
      "source": [
        "matrix = np.random.randint(10,size = (10, 10))\n",
        "matrix.max(axis =1,keepdims=True)\n",
        "matrix.min(axis =1,keepdims=True)\n",
        "np.concatenate((matrix,matrix.max(axis =1,keepdims=True),matrix.min(axis =1,keepdims=True)),axis = 1)"
      ]
    },
    {
      "cell_type": "markdown",
      "metadata": {
        "id": "9dRykV6iu13X"
      },
      "source": [
        "13) Вектор чисел от 1 до 51 преобразовать в вектор нечетных чисел и в вектор четных чисел, поменять их размерности, чтобы получились две матрица. Найти произведение этих матриц. Найти обратную матрицу эётого произведения.  "
      ]
    },
    {
      "cell_type": "code",
      "execution_count": 22,
      "metadata": {
        "id": "0IDhZkO-u13X",
        "outputId": "66672a0c-5b1c-4059-f65f-52639bbc468d",
        "colab": {
          "base_uri": "https://localhost:8080/"
        }
      },
      "outputs": [
        {
          "output_type": "stream",
          "name": "stdout",
          "text": [
            "[[1246 1330 1414 1498]\n",
            " [2902 3130 3358 3586]\n",
            " [4558 4930 5302 5674]\n",
            " [6214 6730 7246 7762]]\n",
            "[[-3.66503876e+11  3.21853878e-04  1.09951163e+12 -7.33007752e+11]\n",
            " [-7.33007752e+11  2.19902326e+12 -2.19902326e+12  7.33007752e+11]\n",
            " [ 2.56552713e+12 -4.39804651e+12  1.09951163e+12  7.33007752e+11]\n",
            " [-1.46601550e+12  2.19902326e+12  0.00000000e+00 -7.33007752e+11]]\n"
          ]
        }
      ],
      "source": [
        "a =np.mat(np.arange(1,50)[1::2]).reshape(4,6)\n",
        "b =np.mat(np.arange(1,50)[2::2]).reshape(6,4)\n",
        "print(a*b)\n",
        "print(np.linalg.inv(a*b))"
      ]
    },
    {
      "cell_type": "markdown",
      "metadata": {
        "id": "d7gqZCNtu13X"
      },
      "source": [
        "14) Создать 8x8 матрицу и заполнить её в шахматном порядке нулями и единицами."
      ]
    },
    {
      "cell_type": "code",
      "execution_count": 23,
      "metadata": {
        "id": "moEPbG_uu13X",
        "outputId": "0f1e6778-a169-44c1-a35e-8001f5e29c89",
        "colab": {
          "base_uri": "https://localhost:8080/"
        }
      },
      "outputs": [
        {
          "output_type": "execute_result",
          "data": {
            "text/plain": [
              "array([[0, 1, 0, 1, 0, 1, 0, 1],\n",
              "       [1, 0, 1, 0, 1, 0, 1, 0],\n",
              "       [0, 1, 0, 1, 0, 1, 0, 1],\n",
              "       [1, 0, 1, 0, 1, 0, 1, 0],\n",
              "       [0, 1, 0, 1, 0, 1, 0, 1],\n",
              "       [1, 0, 1, 0, 1, 0, 1, 0],\n",
              "       [0, 1, 0, 1, 0, 1, 0, 1],\n",
              "       [1, 0, 1, 0, 1, 0, 1, 0]])"
            ]
          },
          "metadata": {},
          "execution_count": 23
        }
      ],
      "source": [
        "matrix = np.zeros((8,8), dtype=int)\n",
        "matrix[1::2,::2] = 1\n",
        "matrix[::2,1::2] = 1\n",
        "matrix"
      ]
    }
  ],
  "metadata": {
    "kernelspec": {
      "display_name": "Python 3",
      "language": "python",
      "name": "python3"
    },
    "language_info": {
      "codemirror_mode": {
        "name": "ipython",
        "version": 3
      },
      "file_extension": ".py",
      "mimetype": "text/x-python",
      "name": "python",
      "nbconvert_exporter": "python",
      "pygments_lexer": "ipython3",
      "version": "3.8.0"
    },
    "colab": {
      "provenance": [],
      "include_colab_link": true
    }
  },
  "nbformat": 4,
  "nbformat_minor": 0
}